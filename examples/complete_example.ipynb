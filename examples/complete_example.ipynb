{
 "cells": [
  {
   "cell_type": "markdown",
   "metadata": {},
   "source": [
    "# ezGPX: Complete Tutorial"
   ]
  },
  {
   "cell_type": "markdown",
   "metadata": {},
   "source": [
    "## Parsing"
   ]
  },
  {
   "cell_type": "code",
   "execution_count": 1,
   "metadata": {},
   "outputs": [],
   "source": [
    "import ezgpx\n",
    "\n",
    "gpx = ezgpx.GPX(\"file.gpx\")"
   ]
  },
  {
   "cell_type": "markdown",
   "metadata": {},
   "source": [
    "## Analysing"
   ]
  },
  {
   "cell_type": "markdown",
   "metadata": {},
   "source": [
    "### Name"
   ]
  },
  {
   "cell_type": "code",
   "execution_count": null,
   "metadata": {},
   "outputs": [],
   "source": [
    "# Name\n",
    "print(gpx.name())"
   ]
  },
  {
   "cell_type": "markdown",
   "metadata": {},
   "source": [
    "### Points"
   ]
  },
  {
   "cell_type": "code",
   "execution_count": null,
   "metadata": {},
   "outputs": [],
   "source": [
    "# Compute number of points\n",
    "nb_pts = gpx.nb_points()\n",
    "print(f\"Number of points: {nb_pts}\")\n",
    "\n",
    "# Compute bounds\n",
    "bounds = gpx.bounds()\n",
    "print(f\"Bounds (min lat, min lon, max lat, max lon): {bounds}\")\n",
    "\n",
    "# Compute center\n",
    "# Note: not using boundsType objects in GPX file\n",
    "center = gpx.center()\n",
    "print(f\"Center (lat, lon): {center}\")\n",
    "\n",
    "# Retrieve first/last point\n",
    "first_pt = gpx.first_point()\n",
    "last_pt = gpx.last_point()\n",
    "print(f\"First/last point: {first_pt}, {last_pt}\")\n",
    "\n",
    "# Retrieve extreme points\n",
    "extreme_pts = gpx.extreme_points()\n",
    "print(f\"Extreme points: {[str(pt) for pt in extreme_pts]}\")"
   ]
  },
  {
   "cell_type": "markdown",
   "metadata": {},
   "source": [
    "### Distance and Elevation"
   ]
  },
  {
   "cell_type": "code",
   "execution_count": null,
   "metadata": {},
   "outputs": [],
   "source": [
    "# Compute distance\n",
    "dist = gpx.distance()\n",
    "print(f\"Distance: {dist:.2f} m | {dist / 1000:.2f} km\")\n",
    "\n",
    "# Compute ascent\n",
    "ascent = gpx.ascent()\n",
    "print(f\"Ascent: {ascent} m\")\n",
    "\n",
    "# Compute descent\n",
    "descent = gpx.descent()\n",
    "print(f\"Descent: {descent} m\")\n",
    "\n",
    "# Compute minimum/maximum elevation\n",
    "min_ele = gpx.min_elevation()\n",
    "max_ele = gpx.max_elevation()\n",
    "print(f\"Min/max elevation: {min_ele:.2f} m | {max_ele:.2f} m\")\n",
    "\n",
    "# Compute ascent rate at each point\n",
    "# Note: this function is executed by all methods that require\n",
    "# ascent rate of points\n",
    "gpx.compute_points_ascent_rate()\n",
    "\n",
    "# Compute minimum/maximum ascent rate\n",
    "min_ascent_rate = gpx.min_ascent_rate()\n",
    "max_ascent_rate = gpx.max_ascent_rate()\n",
    "print(f\"Min/max ascent rate: {min_ascent_rate:.2f} % | {max_ascent_rate:.2f} %\")"
   ]
  },
  {
   "cell_type": "markdown",
   "metadata": {},
   "source": [
    "### Time"
   ]
  },
  {
   "cell_type": "code",
   "execution_count": null,
   "metadata": {},
   "outputs": [],
   "source": [
    "# Retrieve start/stop time\n",
    "start_time = gpx.start_time()\n",
    "stop_time = gpx.stop_time()\n",
    "print(f\"Start/stop time: {start_time} | {stop_time}\")\n",
    "\n",
    "# Compute the total amount of time elapsed\n",
    "elapsed_time = gpx.total_elapsed_time()\n",
    "print(f\"Elapsed time: {elapsed_time}\")\n",
    "\n",
    "# Compute the total amount of time stopped\n",
    "stopped_time = gpx.stopped_time()\n",
    "print(f\"Stopped time: {stopped_time}\")\n",
    "\n",
    "# Compute the total amount of time spent moving\n",
    "moving_time = gpx.moving_time()\n",
    "print(f\"Moving time: {moving_time}\")"
   ]
  },
  {
   "cell_type": "markdown",
   "metadata": {},
   "source": [
    "### Speed and Pace"
   ]
  },
  {
   "cell_type": "code",
   "execution_count": null,
   "metadata": {},
   "outputs": [],
   "source": [
    "# Compute average speed\n",
    "avg_speed = gpx.avg_speed()\n",
    "print(f\"Average speed: {avg_speed} km/h\")\n",
    "\n",
    "# Compute average speed while moving\n",
    "avg_mv_speed = gpx.avg_moving_speed()\n",
    "print(f\"Average moving speed: {avg_mv_speed} km/h\")\n",
    "\n",
    "# Compute speed at each point\n",
    "# Note: this function is executed by all methods that require\n",
    "# speed at each point\n",
    "gpx.compute_points_speed()\n",
    "\n",
    "# Retrieve minimum/maximum speed reached at a point\n",
    "min_speed = gpx.min_speed()\n",
    "max_speed = gpx.max_speed()\n",
    "print(f\"Min/max speed: {min_speed} km/h | {max_speed} km/h\")\n",
    "\n",
    "# Compute average pace\n",
    "avg_pace = gpx.avg_pace()\n",
    "print(f\"Average pace: {avg_pace} min/km\")\n",
    "\n",
    "# Compute average pace while moving\n",
    "avg_mv_pace = gpx.avg_moving_pace()\n",
    "print(f\"Average moving pace: {avg_mv_pace} min/km\")\n",
    "\n",
    "# Compute pace at each point\n",
    "# Note: this function is executed by all methods that require\n",
    "# pace at each point\n",
    "gpx.compute_points_pace()\n",
    "\n",
    "# Retrieve minimum/maximum pace reached at a point\n",
    "min_pace = gpx.min_pace()\n",
    "max_pace = gpx.max_pace()\n",
    "print(f\"Min/max paxce: {min_pace} min/km | {max_pace} min/km\")\n",
    "\n",
    "# Compute ascent_speed at each point\n",
    "# Note: this function is executed by all methods that require\n",
    "# ascent speed at each point\n",
    "gpx.compute_points_ascent_speed()\n",
    "\n",
    "# Retrieve minimum/maximum ascent speed reached at a point\n",
    "min_ascent_speed = gpx.min_ascent_speed()\n",
    "max_ascent_speed = gpx.max_ascent_speed()\n",
    "print(f\"Min/max ascent speed: {min_ascent_speed} km/h | {max_ascent_speed} km/h\")"
   ]
  },
  {
   "cell_type": "markdown",
   "metadata": {},
   "source": [
    "## Plotting"
   ]
  },
  {
   "cell_type": "markdown",
   "metadata": {},
   "source": [
    "### Matplotlib"
   ]
  },
  {
   "cell_type": "code",
   "execution_count": null,
   "metadata": {},
   "outputs": [],
   "source": [
    "# Plot with Matplotlib\n",
    "import matplotlib as mpl\n",
    "gpx.matplotlib_plot(figsize=(16,9),\n",
    "                    size=5,\n",
    "                    color=\"ele\",\n",
    "                    cmap=mpl.colormaps.get_cmap(\"viridis\"),\n",
    "                    colorbar=False,\n",
    "                    start_point_color=\"green\",\n",
    "                    stop_point_color=\"red\",\n",
    "                    way_points_color=None,\n",
    "                    background=\"World_Imagery\",\n",
    "                    offset_percentage=0.04,\n",
    "                    dpi=100,\n",
    "                    title=gpx.name(),\n",
    "                    title_fontsize=20,\n",
    "                    watermark=True)"
   ]
  },
  {
   "cell_type": "markdown",
   "metadata": {},
   "source": [
    "## Modifying"
   ]
  },
  {
   "cell_type": "markdown",
   "metadata": {},
   "source": [
    "### Removing Data"
   ]
  },
  {
   "cell_type": "code",
   "execution_count": 9,
   "metadata": {},
   "outputs": [],
   "source": [
    "# Remove metadata\n",
    "gpx.remove_metadata()\n",
    "\n",
    "# Remove elevation data\n",
    "gpx.remove_elevation()\n",
    "\n",
    "# Remove time data\n",
    "gpx.remove_time()\n",
    "\n",
    "# Remove extensions data\n",
    "gpx.remove_extensions()"
   ]
  },
  {
   "cell_type": "markdown",
   "metadata": {},
   "source": [
    "### Simplifying Track"
   ]
  },
  {
   "cell_type": "code",
   "execution_count": 10,
   "metadata": {},
   "outputs": [],
   "source": [
    "# Simplify (using Ramer-Douglas-Peucker algorithm)\n",
    "gpx.simplify()"
   ]
  },
  {
   "cell_type": "markdown",
   "metadata": {},
   "source": [
    "### Removing Errors"
   ]
  },
  {
   "cell_type": "code",
   "execution_count": null,
   "metadata": {},
   "outputs": [],
   "source": [
    "# Remove GPS errors\n",
    "gpx.remove_gps_errors()"
   ]
  },
  {
   "cell_type": "markdown",
   "metadata": {},
   "source": [
    "## Converting and Saving"
   ]
  },
  {
   "cell_type": "markdown",
   "metadata": {},
   "source": [
    "### Converting to Pandas Dataframe"
   ]
  },
  {
   "cell_type": "code",
   "execution_count": null,
   "metadata": {},
   "outputs": [],
   "source": [
    "# Convert to Pandas Dataframe\n",
    "df = gpx.to_dataframe()\n",
    "df.head()"
   ]
  },
  {
   "cell_type": "markdown",
   "metadata": {},
   "source": [
    "### Saving as GPX File"
   ]
  },
  {
   "cell_type": "code",
   "execution_count": null,
   "metadata": {},
   "outputs": [],
   "source": [
    "# Save as GPX file\n",
    "gpx.to_gpx(\"new_file.gpx\")"
   ]
  },
  {
   "cell_type": "markdown",
   "metadata": {},
   "source": [
    "### Saving as KML File"
   ]
  },
  {
   "cell_type": "code",
   "execution_count": null,
   "metadata": {},
   "outputs": [],
   "source": [
    "# Save as KML file\n",
    "gpx.to_kml(\"new_file.kml\")"
   ]
  },
  {
   "cell_type": "markdown",
   "metadata": {},
   "source": [
    "### Saving as CSV File"
   ]
  },
  {
   "cell_type": "code",
   "execution_count": 18,
   "metadata": {},
   "outputs": [],
   "source": [
    "# Save as CSV file\n",
    "gpx.to_csv(\"new_file.csv\", values=[\"lat\", \"lon\", \"ele\"])"
   ]
  },
  {
   "cell_type": "markdown",
   "metadata": {},
   "source": [
    "## Checking Schemas"
   ]
  },
  {
   "cell_type": "markdown",
   "metadata": {},
   "source": [
    "### During Parsing"
   ]
  },
  {
   "cell_type": "code",
   "execution_count": null,
   "metadata": {},
   "outputs": [],
   "source": [
    "# Check GPX schema when parsing file\n",
    "gpx = ezgpx.GPX(\"file.gpx\", xml_schema=True, xml_extensions_schemas=False)"
   ]
  },
  {
   "cell_type": "markdown",
   "metadata": {},
   "source": [
    "### Checking a GPX Object"
   ]
  },
  {
   "cell_type": "code",
   "execution_count": null,
   "metadata": {},
   "outputs": [],
   "source": [
    "# Check GPX schema from GPX instance\n",
    "gpx.check_xml_schema()\n",
    "\n",
    "# Check extensions schemas from GPX instance\n",
    "gpx.check_xml_extensions_schemas()"
   ]
  },
  {
   "cell_type": "markdown",
   "metadata": {},
   "source": [
    "### After Writting"
   ]
  },
  {
   "cell_type": "code",
   "execution_count": null,
   "metadata": {},
   "outputs": [],
   "source": [
    "# Check if written file follow GPX schema\n",
    "if gpx.to_gpx(\"new_file.gpx\", check_xml_schemas=True, extensions_schemas=False) == False:\n",
    "    print(\"new_file.gpx does not follow the GPX 1.1 schema!!\")"
   ]
  }
 ],
 "metadata": {
  "kernelspec": {
   "display_name": "base",
   "language": "python",
   "name": "python3"
  },
  "language_info": {
   "codemirror_mode": {
    "name": "ipython",
    "version": 3
   },
   "file_extension": ".py",
   "mimetype": "text/x-python",
   "name": "python",
   "nbconvert_exporter": "python",
   "pygments_lexer": "ipython3",
   "version": "3.9.12"
  }
 },
 "nbformat": 4,
 "nbformat_minor": 2
}
